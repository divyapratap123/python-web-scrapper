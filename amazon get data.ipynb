{
 "cells": [
  {
   "cell_type": "code",
   "execution_count": 1,
   "id": "9f985db4",
   "metadata": {},
   "outputs": [],
   "source": [
    "from bs4 import BeautifulSoup\n",
    "import requests\n",
    "import pandas as pd\n",
    "import numpy as np\n"
   ]
  },
  {
   "cell_type": "code",
   "execution_count": 2,
   "id": "0fbce0cb",
   "metadata": {},
   "outputs": [],
   "source": [
    "def get_name(soup):\n",
    "    try:\n",
    "        title=soup.find('span',attrs={'id':\"productTitle\"})\n",
    "        title_value = title.text\n",
    "        title_string = title_value.strip()\n",
    "    except AttributeError:\n",
    "        title_string = \"\"\n",
    "\n",
    "    return title_string\n",
    "def get_price(soup):\n",
    "    try:\n",
    "        price=soup.find('span',attrs={'class':\"a-price-whole\"}).text\n",
    "    except AttributeError:\n",
    "        price= \"\"\n",
    "\n",
    "    return price\n",
    "def get_rating(soup):\n",
    "    try:\n",
    "        rating=soup.find('span',attrs={'class':\"a-icon-alt\"}).text\n",
    "    except AttributeError:\n",
    "        rating=''\n",
    "    return rating\n",
    "def get_reviews(soup):\n",
    "    try:\n",
    "        reviews=soup.find('span',attrs={'id':\"acrCustomerReviewText\"}).text\n",
    "    except AttributeError:\n",
    "        reviews=''\n",
    "    return reviews\n",
    "\n",
    "    "
   ]
  },
  {
   "cell_type": "code",
   "execution_count": 3,
   "id": "805c941f",
   "metadata": {},
   "outputs": [],
   "source": [
    "url=\"https://www.amazon.in/s?k=bags&crid=2M096C61O4MLT&qid=1653308124&sprefix=ba%2Caps%2C283&ref=sr_pg_1\"\n",
    "HEADERS=({'User-Agent':'Mozilla/5.0 (Windows NT 10.0; Win64; x64) AppleWebKit/537.36 (KHTML, like Gecko) Chrome/111.0.0.0 Safari/537.36'})\n",
    "client=requests.session()\n",
    "d={'product url':[],'product name':[],'product price':[],'rating':[],'no of reviews':[]}\n",
    "i=1\n",
    "while True:\n",
    "    webpage=client.get(url,headers=HEADERS)\n",
    "    soup=BeautifulSoup(webpage.content,\"html.parser\")\n",
    "    links=soup.find_all(\"a\",attrs={'class':\"a-link-normal s-underline-text s-underline-link-text s-link-style a-text-normal\"})\n",
    "    links_list=[]\n",
    "    for link in links:\n",
    "        links_list.append(link.get('href'))\n",
    "    \n",
    "    for link in links_list:\n",
    "        new_webpage=requests.get(\"http://www.amazon.in\"+link,headers=HEADERS)\n",
    "        new_soup=BeautifulSoup(new_webpage.content,\"html.parser\")\n",
    "        apin=new_soup.find_all('span',attrs={'class':\"a-list-item\"}).text\n",
    "        d['product url'].append(\"http://www.amazon.in\"+link)\n",
    "        d['product name'].append(get_name(new_soup))\n",
    "        d['product price'].append(get_price(new_soup))\n",
    "        d['rating'].append(get_rating(new_soup))\n",
    "        d['no of reviews'].append(get_reviews(new_soup))      \n",
    "\n",
    "    nextlink=soup.find('a',attrs={'class':\"s-pagination-item s-pagination-next s-pagination-button s-pagination-separator\"})\n",
    "    try:\n",
    "        url=\"http://www.amazon.in\"+nextlink.get('href')\n",
    "    except AttributeError:\n",
    "        pass\n",
    "    #count=int(soup.find('span',attrs={'class':\"s-pagination-item s-pagination-disabled\"}).text)\n",
    "    i+=1\n",
    "\n",
    "    if(i>=2):\n",
    "        break\n",
    "amazon_df = pd.DataFrame.from_dict(d)\n",
    "amazon_df['product name'].replace('', np.nan, inplace=True)\n",
    "amazon_df = amazon_df.dropna(subset=['product name'])\n",
    "amazon_df.to_csv(\"amazon_data.csv\", header=True, index=False)\n",
    "\n",
    "\n",
    "\n",
    "    "
   ]
  },
  {
   "cell_type": "code",
   "execution_count": null,
   "id": "c4c2ab09",
   "metadata": {},
   "outputs": [],
   "source": [
    "webpage"
   ]
  },
  {
   "cell_type": "code",
   "execution_count": null,
   "id": "78957806",
   "metadata": {},
   "outputs": [],
   "source": []
  }
 ],
 "metadata": {
  "kernelspec": {
   "display_name": "Python 3 (ipykernel)",
   "language": "python",
   "name": "python3"
  },
  "language_info": {
   "codemirror_mode": {
    "name": "ipython",
    "version": 3
   },
   "file_extension": ".py",
   "mimetype": "text/x-python",
   "name": "python",
   "nbconvert_exporter": "python",
   "pygments_lexer": "ipython3",
   "version": "3.10.5"
  }
 },
 "nbformat": 4,
 "nbformat_minor": 5
}
